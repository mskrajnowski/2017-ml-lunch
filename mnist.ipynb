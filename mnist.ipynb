{
 "cells": [
  {
   "cell_type": "code",
   "execution_count": 1,
   "metadata": {
    "collapsed": true
   },
   "outputs": [],
   "source": [
    "import numpy as np\n",
    "import matplotlib.pyplot as plt\n",
    "\n",
    "%matplotlib inline"
   ]
  },
  {
   "cell_type": "code",
   "execution_count": 39,
   "metadata": {},
   "outputs": [],
   "source": [
    "from keras.datasets import mnist\n",
    "\n",
    "(x_train, y_train), (x_test, y_test) = mnist.load_data()"
   ]
  },
  {
   "cell_type": "code",
   "execution_count": 40,
   "metadata": {
    "collapsed": true
   },
   "outputs": [],
   "source": [
    "# smaller sample for development\n",
    "x_train, y_train = x_train[:5000], y_train[:5000]\n",
    "x_test, y_test = x_test[:1000], y_test[:1000]"
   ]
  },
  {
   "cell_type": "code",
   "execution_count": 41,
   "metadata": {},
   "outputs": [
    {
     "data": {
      "text/plain": [
       "((5000, 28, 28), (5000,))"
      ]
     },
     "execution_count": 41,
     "metadata": {},
     "output_type": "execute_result"
    }
   ],
   "source": [
    "x_train.shape, y_train.shape"
   ]
  },
  {
   "cell_type": "code",
   "execution_count": 42,
   "metadata": {},
   "outputs": [
    {
     "data": {
      "text/plain": [
       "((1000, 28, 28), (1000,))"
      ]
     },
     "execution_count": 42,
     "metadata": {},
     "output_type": "execute_result"
    }
   ],
   "source": [
    "x_test.shape, y_test.shape"
   ]
  },
  {
   "cell_type": "code",
   "execution_count": 43,
   "metadata": {
    "collapsed": true
   },
   "outputs": [],
   "source": [
    "from keras.utils import to_categorical\n",
    "\n",
    "y_train = to_categorical(y_train)\n",
    "y_test = to_categorical(y_test)"
   ]
  },
  {
   "cell_type": "code",
   "execution_count": 44,
   "metadata": {},
   "outputs": [
    {
     "data": {
      "text/plain": [
       "((5000, 10), (1000, 10))"
      ]
     },
     "execution_count": 44,
     "metadata": {},
     "output_type": "execute_result"
    }
   ],
   "source": [
    "y_train.shape, y_test.shape"
   ]
  },
  {
   "cell_type": "code",
   "execution_count": 87,
   "metadata": {
    "collapsed": true
   },
   "outputs": [],
   "source": [
    "def display_batch(x, y):\n",
    "    fig, axes = plt.subplots(2, 8, figsize=(12, 3))\n",
    "    axes = axes.reshape(16)\n",
    "    for axis in axes:\n",
    "        axis.set_axis_off()\n",
    "        \n",
    "    for image, label, axis in zip(x[:16], y[:16], axes):\n",
    "        axis.imshow(image, cmap='gray')\n",
    "        axis.set_title(label.argmax())"
   ]
  },
  {
   "cell_type": "code",
   "execution_count": 88,
   "metadata": {},
   "outputs": [
    {
     "data": {
      "image/png": "[encoded data removed]",
      "text/plain": [
       "<matplotlib.figure.Figure at 0x7f3dbd9e3a20>"
      ]
     },
     "metadata": {},
     "output_type": "display_data"
    }
   ],
   "source": [
    "display_batch(x_train, y_train)"
   ]
  },
  {
   "cell_type": "code",
   "execution_count": 45,
   "metadata": {
    "collapsed": true
   },
   "outputs": [],
   "source": [
    "from keras.layers import *\n",
    "from keras.models import Sequential"
   ]
  },
  {
   "cell_type": "code",
   "execution_count": null,
   "metadata": {
    "collapsed": true
   },
   "outputs": [],
   "source": [
    "from IPython.display import display\n",
    "\n",
    "def evaluate(layers):\n",
    "    model = Sequential(layers)\n",
    "    model.compile(\n",
    "        optimizer='nadam',\n",
    "        loss='categorical_crossentropy',\n",
    "        metrics=['accuracy'],\n",
    "    )\n",
    "    display(model.summary())\n",
    "    model.fit(x_train, y_train, validation_data=(x_test, y_test), epochs=10)\n",
    "\n",
    "    labels = y_test.argmax()\n",
    "    predictions = model.predict(x_test)\n",
    "    predicted_labels = predictions.argmax()\n",
    "    prediction_certainty = predictions.max(axis=1)\n",
    "    \n",
    "    y_test\n",
    "    \n",
    "    correct = np.where(predicted_labels == labels)\n",
    "    \n",
    "    \n",
    "    \n",
    "    return model"
   ]
  },
  {
   "cell_type": "code",
   "execution_count": 66,
   "metadata": {},
   "outputs": [
    {
     "name": "stdout",
     "output_type": "stream",
     "text": [
      "_________________________________________________________________\n",
      "Layer (type)                 Output Shape              Param #   \n",
      "=================================================================\n",
      "flatten_12 (Flatten)         (None, 784)               0         \n",
      "_________________________________________________________________\n",
      "dense_13 (Dense)             (None, 10)                7850      \n",
      "=================================================================\n",
      "Total params: 7,850\n",
      "Trainable params: 7,850\n",
      "Non-trainable params: 0\n",
      "_________________________________________________________________\n"
     ]
    }
   ],
   "source": [
    "model_1 = Sequential([\n",
    "    Flatten(input_shape=(28, 28)),\n",
    "    Dense(10),\n",
    "])\n",
    "model_1.compile(\n",
    "    optimizer='nadam',\n",
    "    loss='categorical_crossentropy',\n",
    "    metrics=['accuracy'],\n",
    ")\n",
    "model_1.summary()"
   ]
  },
  {
   "cell_type": "code",
   "execution_count": 67,
   "metadata": {},
   "outputs": [
    {
     "name": "stdout",
     "output_type": "stream",
     "text": [
      "Train on 5000 samples, validate on 1000 samples\n",
      "Epoch 1/10\n",
      "5000/5000 [==============================] - 0s - loss: 10.0248 - acc: 0.1568 - val_loss: 10.5533 - val_acc: 0.2190\n",
      "Epoch 2/10\n",
      "5000/5000 [==============================] - 0s - loss: 9.8824 - acc: 0.1776 - val_loss: 10.2982 - val_acc: 0.2060\n",
      "Epoch 3/10\n",
      "5000/5000 [==============================] - 0s - loss: 9.1893 - acc: 0.1896 - val_loss: 9.6653 - val_acc: 0.2020\n",
      "Epoch 4/10\n",
      "5000/5000 [==============================] - 0s - loss: 9.4102 - acc: 0.1492 - val_loss: 10.1484 - val_acc: 0.1130\n",
      "Epoch 5/10\n",
      "5000/5000 [==============================] - 0s - loss: 10.0370 - acc: 0.1182 - val_loss: 10.4179 - val_acc: 0.1240\n",
      "Epoch 6/10\n",
      "5000/5000 [==============================] - 0s - loss: 10.2145 - acc: 0.1126 - val_loss: 10.6409 - val_acc: 0.1210\n",
      "Epoch 7/10\n",
      "5000/5000 [==============================] - 0s - loss: 10.0085 - acc: 0.1134 - val_loss: 8.4545 - val_acc: 0.1270\n",
      "Epoch 8/10\n",
      "5000/5000 [==============================] - 0s - loss: 9.7004 - acc: 0.1314 - val_loss: 8.7046 - val_acc: 0.1900\n",
      "Epoch 9/10\n",
      "5000/5000 [==============================] - 0s - loss: 10.2456 - acc: 0.1704 - val_loss: 8.8176 - val_acc: 0.1840\n",
      "Epoch 10/10\n",
      "5000/5000 [==============================] - 0s - loss: 9.8208 - acc: 0.1668 - val_loss: 10.9954 - val_acc: 0.1700\n"
     ]
    },
    {
     "data": {
      "text/plain": [
       "<keras.callbacks.History at 0x7f3dc4dbb898>"
      ]
     },
     "execution_count": 67,
     "metadata": {},
     "output_type": "execute_result"
    }
   ],
   "source": [
    "model_1.fit(x_train, y_train, validation_data=(x_test, y_test), epochs=10)"
   ]
  },
  {
   "cell_type": "code",
   "execution_count": 68,
   "metadata": {},
   "outputs": [
    {
     "name": "stdout",
     "output_type": "stream",
     "text": [
      "_________________________________________________________________\n",
      "Layer (type)                 Output Shape              Param #   \n",
      "=================================================================\n",
      "flatten_13 (Flatten)         (None, 784)               0         \n",
      "_________________________________________________________________\n",
      "dense_14 (Dense)             (None, 10)                7850      \n",
      "=================================================================\n",
      "Total params: 7,850\n",
      "Trainable params: 7,850\n",
      "Non-trainable params: 0\n",
      "_________________________________________________________________\n"
     ]
    }
   ],
   "source": [
    "model_2 = Sequential([\n",
    "    Flatten(input_shape=(28, 28)),\n",
    "    Dense(10, activation='softmax'),\n",
    "])\n",
    "model_2.compile(\n",
    "    optimizer='nadam',\n",
    "    loss='categorical_crossentropy',\n",
    "    metrics=['accuracy'],\n",
    ")\n",
    "model_2.summary()"
   ]
  },
  {
   "cell_type": "code",
   "execution_count": 69,
   "metadata": {
    "scrolled": true
   },
   "outputs": [
    {
     "name": "stdout",
     "output_type": "stream",
     "text": [
      "Train on 5000 samples, validate on 1000 samples\n",
      "Epoch 1/10\n",
      "5000/5000 [==============================] - 0s - loss: 10.2122 - acc: 0.3584 - val_loss: 9.0066 - val_acc: 0.4330\n",
      "Epoch 2/10\n",
      "5000/5000 [==============================] - 0s - loss: 8.3889 - acc: 0.4754 - val_loss: 8.3356 - val_acc: 0.4770\n",
      "Epoch 3/10\n",
      "5000/5000 [==============================] - 0s - loss: 8.0207 - acc: 0.4980 - val_loss: 7.8889 - val_acc: 0.5050\n",
      "Epoch 4/10\n",
      "5000/5000 [==============================] - 0s - loss: 7.6087 - acc: 0.5250 - val_loss: 7.7200 - val_acc: 0.5170\n",
      "Epoch 5/10\n",
      "5000/5000 [==============================] - 0s - loss: 7.5888 - acc: 0.5264 - val_loss: 7.6265 - val_acc: 0.5230\n",
      "Epoch 6/10\n",
      "5000/5000 [==============================] - 0s - loss: 7.3556 - acc: 0.5408 - val_loss: 7.5394 - val_acc: 0.5300\n",
      "Epoch 7/10\n",
      "5000/5000 [==============================] - 0s - loss: 7.2724 - acc: 0.5464 - val_loss: 7.1333 - val_acc: 0.5560\n",
      "Epoch 8/10\n",
      "5000/5000 [==============================] - 0s - loss: 7.1782 - acc: 0.5536 - val_loss: 7.3009 - val_acc: 0.5450\n",
      "Epoch 9/10\n",
      "5000/5000 [==============================] - 0s - loss: 7.3013 - acc: 0.5450 - val_loss: 7.7562 - val_acc: 0.5170\n",
      "Epoch 10/10\n",
      "5000/5000 [==============================] - 0s - loss: 7.2759 - acc: 0.5466 - val_loss: 7.4270 - val_acc: 0.5380\n"
     ]
    },
    {
     "data": {
      "text/plain": [
       "<keras.callbacks.History at 0x7f3dc4a01e80>"
      ]
     },
     "execution_count": 69,
     "metadata": {},
     "output_type": "execute_result"
    }
   ],
   "source": [
    "model_2.fit(x_train, y_train, validation_data=(x_test, y_test), epochs=10)"
   ]
  },
  {
   "cell_type": "code",
   "execution_count": 70,
   "metadata": {},
   "outputs": [
    {
     "name": "stdout",
     "output_type": "stream",
     "text": [
      "_________________________________________________________________\n",
      "Layer (type)                 Output Shape              Param #   \n",
      "=================================================================\n",
      "flatten_14 (Flatten)         (None, 784)               0         \n",
      "_________________________________________________________________\n",
      "batch_normalization_1 (Batch (None, 784)               3136      \n",
      "_________________________________________________________________\n",
      "dense_15 (Dense)             (None, 10)                7850      \n",
      "=================================================================\n",
      "Total params: 10,986\n",
      "Trainable params: 9,418\n",
      "Non-trainable params: 1,568\n",
      "_________________________________________________________________\n"
     ]
    }
   ],
   "source": [
    "model_3 = Sequential([\n",
    "    Flatten(input_shape=(28, 28)),\n",
    "    BatchNormalization(),\n",
    "    Dense(10, activation='softmax'),\n",
    "])\n",
    "model_3.compile(\n",
    "    optimizer='nadam',\n",
    "    loss='categorical_crossentropy',\n",
    "    metrics=['accuracy'],\n",
    ")\n",
    "model_3.summary()"
   ]
  },
  {
   "cell_type": "code",
   "execution_count": 71,
   "metadata": {
    "scrolled": true
   },
   "outputs": [
    {
     "name": "stdout",
     "output_type": "stream",
     "text": [
      "Train on 5000 samples, validate on 1000 samples\n",
      "Epoch 1/10\n",
      "5000/5000 [==============================] - 0s - loss: 0.7377 - acc: 0.7766 - val_loss: 0.5066 - val_acc: 0.8550\n",
      "Epoch 2/10\n",
      "5000/5000 [==============================] - 0s - loss: 0.3547 - acc: 0.8990 - val_loss: 0.4708 - val_acc: 0.8710\n",
      "Epoch 3/10\n",
      "5000/5000 [==============================] - 0s - loss: 0.2993 - acc: 0.9156 - val_loss: 0.4910 - val_acc: 0.8750\n",
      "Epoch 4/10\n",
      "5000/5000 [==============================] - 0s - loss: 0.2721 - acc: 0.9260 - val_loss: 0.4950 - val_acc: 0.8790\n",
      "Epoch 5/10\n",
      "5000/5000 [==============================] - 0s - loss: 0.2437 - acc: 0.9258 - val_loss: 0.5027 - val_acc: 0.8770\n",
      "Epoch 6/10\n",
      "5000/5000 [==============================] - 0s - loss: 0.2272 - acc: 0.9344 - val_loss: 0.5145 - val_acc: 0.8790\n",
      "Epoch 7/10\n",
      "5000/5000 [==============================] - 0s - loss: 0.2186 - acc: 0.9344 - val_loss: 0.5266 - val_acc: 0.8770\n",
      "Epoch 8/10\n",
      "5000/5000 [==============================] - 0s - loss: 0.2042 - acc: 0.9376 - val_loss: 0.5221 - val_acc: 0.8860\n",
      "Epoch 9/10\n",
      "5000/5000 [==============================] - 0s - loss: 0.1936 - acc: 0.9414 - val_loss: 0.5402 - val_acc: 0.8720\n",
      "Epoch 10/10\n",
      "5000/5000 [==============================] - 0s - loss: 0.1986 - acc: 0.9420 - val_loss: 0.5739 - val_acc: 0.8740\n"
     ]
    },
    {
     "data": {
      "text/plain": [
       "<keras.callbacks.History at 0x7f3dc45ae9b0>"
      ]
     },
     "execution_count": 71,
     "metadata": {},
     "output_type": "execute_result"
    }
   ],
   "source": [
    "model_3.fit(x_train, y_train, validation_data=(x_test, y_test), epochs=10)"
   ]
  },
  {
   "cell_type": "code",
   "execution_count": 56,
   "metadata": {
    "collapsed": true
   },
   "outputs": [],
   "source": [
    "model = Sequential([\n",
    "    Flatten(input_shape=(28, 28)),\n",
    "    Dense(100, activation='relu'),\n",
    "    Dense(10, activation='softmax'),\n",
    "])\n",
    "model.compile(\n",
    "    optimizer='nadam',\n",
    "    loss='categorical_crossentropy',\n",
    "    metrics=['accuracy'],\n",
    ")"
   ]
  },
  {
   "cell_type": "code",
   "execution_count": 58,
   "metadata": {
    "scrolled": true
   },
   "outputs": [
    {
     "name": "stdout",
     "output_type": "stream",
     "text": [
      "Train on 5000 samples, validate on 1000 samples\n",
      "Epoch 1/10\n",
      "5000/5000 [==============================] - 0s - loss: 9.4750 - acc: 0.4116 - val_loss: 9.6225 - val_acc: 0.4030\n",
      "Epoch 2/10\n",
      "5000/5000 [==============================] - 0s - loss: 9.4101 - acc: 0.4160 - val_loss: 9.5882 - val_acc: 0.4050\n",
      "Epoch 3/10\n",
      "5000/5000 [==============================] - 0s - loss: 9.4227 - acc: 0.4152 - val_loss: 9.3146 - val_acc: 0.4200\n",
      "Epoch 4/10\n",
      "5000/5000 [==============================] - 0s - loss: 9.2450 - acc: 0.4256 - val_loss: 8.6248 - val_acc: 0.4640\n",
      "Epoch 5/10\n",
      "5000/5000 [==============================] - 0s - loss: 8.8674 - acc: 0.4496 - val_loss: 8.5526 - val_acc: 0.4690\n",
      "Epoch 6/10\n",
      "5000/5000 [==============================] - 0s - loss: 9.1526 - acc: 0.4318 - val_loss: 9.0128 - val_acc: 0.4390\n",
      "Epoch 7/10\n",
      "5000/5000 [==============================] - 0s - loss: 8.9683 - acc: 0.4432 - val_loss: 8.7854 - val_acc: 0.4540\n",
      "Epoch 8/10\n",
      "5000/5000 [==============================] - 0s - loss: 8.7694 - acc: 0.4558 - val_loss: 9.1712 - val_acc: 0.4310\n",
      "Epoch 9/10\n",
      "5000/5000 [==============================] - 0s - loss: 8.9120 - acc: 0.4468 - val_loss: 9.1873 - val_acc: 0.4300\n",
      "Epoch 10/10\n",
      "5000/5000 [==============================] - 0s - loss: 8.7319 - acc: 0.4580 - val_loss: 8.8535 - val_acc: 0.4500\n"
     ]
    },
    {
     "data": {
      "text/plain": [
       "<keras.callbacks.History at 0x7f3dd4dc42b0>"
      ]
     },
     "execution_count": 58,
     "metadata": {},
     "output_type": "execute_result"
    }
   ],
   "source": [
    "model.fit(x_train, y_train, validation_data=(x_test, y_test), epochs=10)"
   ]
  }
 ],
 "metadata": {
  "kernelspec": {
   "display_name": "Python 3",
   "language": "python",
   "name": "python3"
  },
  "language_info": {
   "codemirror_mode": {
    "name": "ipython",
    "version": 3
   },
   "file_extension": ".py",
   "mimetype": "text/x-python",
   "name": "python",
   "nbconvert_exporter": "python",
   "pygments_lexer": "ipython3",
   "version": "3.5.2"
  }
 },
 "nbformat": 4,
 "nbformat_minor": 2
}
